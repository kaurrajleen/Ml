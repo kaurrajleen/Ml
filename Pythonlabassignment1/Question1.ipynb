{
  "nbformat": 4,
  "nbformat_minor": 0,
  "metadata": {
    "kernelspec": {
      "display_name": "Python 3",
      "language": "python",
      "name": "python3"
    },
    "language_info": {
      "codemirror_mode": {
        "name": "ipython",
        "version": 3
      },
      "file_extension": ".py",
      "mimetype": "text/x-python",
      "name": "python",
      "nbconvert_exporter": "python",
      "pygments_lexer": "ipython3",
      "version": "3.8.5"
    },
    "colab": {
      "name": "Question1.ipynb",
      "provenance": [],
      "collapsed_sections": []
    }
  },
  "cells": [
    {
      "cell_type": "code",
      "metadata": {
        "colab": {
          "base_uri": "https://localhost:8080/"
        },
        "id": "Crd0Qz0eVYIV",
        "outputId": "970e16e1-dcf4-4991-8769-e25d5128cffb"
      },
      "source": [
        "import datetime\n",
        "## Question1\n",
        "def printName():\n",
        "    name = input(\"Enter your name: \\t\")\n",
        "    age = int(input(\"Enter your age: \\t\"))\n",
        "    number = int(input(\"Enter the number of times you want to print the message addressed that tells you the year that you will turn 100 years old. \\t\"))\n",
        "    age_100 = (datetime.datetime.now().year) + (100-age)\n",
        "    print(\"Hi! \"+name+ \", and you will be turn 100 years old in \"+ str(age_100)+\"\\n\")\n",
        "          \n",
        "    print(\"Printing Multiple Copies \\n\")\n",
        "    for i in range(number):\n",
        "        print(\"Hi! \"+name+ \", and you will be turn 100 years old in \"+ str(age_100)+\"\\n\")\n",
        "   \n",
        "printName()"
      ],
      "execution_count": 1,
      "outputs": [
        {
          "output_type": "stream",
          "text": [
            "Enter your name: \tRajleen Kaur\n",
            "Enter your age: \t21\n",
            "Enter the number of times you want to print the message addressed that tells you the year that you will turn 100 years old. \t5\n",
            "Hi! Rajleen Kaur, and you will be turn 100 years old in 2100\n",
            "\n",
            "Printing Multiple Copies \n",
            "\n",
            "Hi! Rajleen Kaur, and you will be turn 100 years old in 2100\n",
            "\n",
            "Hi! Rajleen Kaur, and you will be turn 100 years old in 2100\n",
            "\n",
            "Hi! Rajleen Kaur, and you will be turn 100 years old in 2100\n",
            "\n",
            "Hi! Rajleen Kaur, and you will be turn 100 years old in 2100\n",
            "\n",
            "Hi! Rajleen Kaur, and you will be turn 100 years old in 2100\n",
            "\n"
          ],
          "name": "stdout"
        }
      ]
    },
    {
      "cell_type": "code",
      "metadata": {
        "id": "--jKq_cJVYId"
      },
      "source": [
        ""
      ],
      "execution_count": null,
      "outputs": []
    }
  ]
}