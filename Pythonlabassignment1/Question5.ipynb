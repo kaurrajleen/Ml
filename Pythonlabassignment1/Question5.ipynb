{
 "cells": [
  {
   "cell_type": "code",
   "execution_count": 1,
   "metadata": {},
   "outputs": [
    {
     "name": "stdout",
     "output_type": "stream",
     "text": [
      "Enter Number you want to check \t98\n",
      "Number is not Prime\n"
     ]
    }
   ],
   "source": [
    "\n",
    "## Question 5\n",
    "def prime_check():\n",
    "  num = int(input(\"Enter Number you want to check \\t\"))\n",
    "  flag = 1\n",
    "  for i in range(2, int(num/2)):\n",
    "    if(num%i == 0):\n",
    "      flag = 0\n",
    "      break\n",
    "  if(flag==0):\n",
    "    print(\"Number is not Prime\")\n",
    "  else:\n",
    "    print(\"Number is Prime\")\n",
    "\n",
    "prime_check()"
   ]
  },
  {
   "cell_type": "code",
   "execution_count": null,
   "metadata": {},
   "outputs": [],
   "source": []
  }
 ],
 "metadata": {
  "kernelspec": {
   "display_name": "Python 3",
   "language": "python",
   "name": "python3"
  },
  "language_info": {
   "codemirror_mode": {
    "name": "ipython",
    "version": 3
   },
   "file_extension": ".py",
   "mimetype": "text/x-python",
   "name": "python",
   "nbconvert_exporter": "python",
   "pygments_lexer": "ipython3",
   "version": "3.8.5"
  }
 },
 "nbformat": 4,
 "nbformat_minor": 4
}
